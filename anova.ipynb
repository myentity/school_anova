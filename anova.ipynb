{
 "cells": [
  {
   "cell_type": "code",
   "execution_count": 669,
   "metadata": {
    "collapsed": false
   },
   "outputs": [],
   "source": [
    "import pandas\n",
    "import numpy\n",
    "import scipy\n",
    "import statsmodels.formula.api as smf\n",
    "import statsmodels.stats.multicomp as multi"
   ]
  },
  {
   "cell_type": "code",
   "execution_count": 4,
   "metadata": {
    "collapsed": true
   },
   "outputs": [],
   "source": [
    "data = pandas.read_excel('all_data_20_may.xls')"
   ]
  },
  {
   "cell_type": "markdown",
   "metadata": {},
   "source": [
    "## Описание данных"
   ]
  },
  {
   "cell_type": "code",
   "execution_count": 3,
   "metadata": {
    "collapsed": false,
    "scrolled": true
   },
   "outputs": [
    {
     "data": {
      "text/html": [
       "<div>\n",
       "<table border=\"1\" class=\"dataframe\">\n",
       "  <thead>\n",
       "    <tr style=\"text-align: right;\">\n",
       "      <th></th>\n",
       "      <th>RegionID</th>\n",
       "      <th>SchoolID</th>\n",
       "      <th>ClassNumber</th>\n",
       "      <th>ClassID</th>\n",
       "      <th>StudentID</th>\n",
       "      <th>SchoolTypeID</th>\n",
       "      <th>SchoolKindID</th>\n",
       "      <th>TeacherAge</th>\n",
       "      <th>TeacherExperience</th>\n",
       "      <th>StudentsCount</th>\n",
       "      <th>...</th>\n",
       "      <th>PercentLIT_XT</th>\n",
       "      <th>ScoreObyazLIT_XT</th>\n",
       "      <th>ScoreDopLIT_XT</th>\n",
       "      <th>ScoreLIT_XT</th>\n",
       "      <th>PercentOM</th>\n",
       "      <th>ScoreObyazOM</th>\n",
       "      <th>ScoreOM</th>\n",
       "      <th>PercentENGL</th>\n",
       "      <th>ScoreObyazENGL</th>\n",
       "      <th>ScoreENGL</th>\n",
       "    </tr>\n",
       "  </thead>\n",
       "  <tbody>\n",
       "    <tr>\n",
       "      <th>count</th>\n",
       "      <td>65535</td>\n",
       "      <td>65535.000000</td>\n",
       "      <td>65535.000000</td>\n",
       "      <td>65535.000000</td>\n",
       "      <td>65535.000000</td>\n",
       "      <td>64775.000000</td>\n",
       "      <td>64801.000000</td>\n",
       "      <td>64824.000000</td>\n",
       "      <td>64795.000000</td>\n",
       "      <td>64824.000000</td>\n",
       "      <td>...</td>\n",
       "      <td>38081.000000</td>\n",
       "      <td>38081.000000</td>\n",
       "      <td>16893.000000</td>\n",
       "      <td>35984.000000</td>\n",
       "      <td>173.000000</td>\n",
       "      <td>173</td>\n",
       "      <td>0</td>\n",
       "      <td>399.000000</td>\n",
       "      <td>399</td>\n",
       "      <td>0</td>\n",
       "    </tr>\n",
       "    <tr>\n",
       "      <th>mean</th>\n",
       "      <td>77</td>\n",
       "      <td>996.678141</td>\n",
       "      <td>2.055192</td>\n",
       "      <td>207.704570</td>\n",
       "      <td>14.428550</td>\n",
       "      <td>1.718070</td>\n",
       "      <td>4.651471</td>\n",
       "      <td>43.055427</td>\n",
       "      <td>20.894791</td>\n",
       "      <td>26.706791</td>\n",
       "      <td>...</td>\n",
       "      <td>0.700729</td>\n",
       "      <td>11.124498</td>\n",
       "      <td>3.294264</td>\n",
       "      <td>15.278707</td>\n",
       "      <td>0.627489</td>\n",
       "      <td>0</td>\n",
       "      <td>NaN</td>\n",
       "      <td>0.493985</td>\n",
       "      <td>0</td>\n",
       "      <td>NaN</td>\n",
       "    </tr>\n",
       "    <tr>\n",
       "      <th>std</th>\n",
       "      <td>0</td>\n",
       "      <td>1527.052579</td>\n",
       "      <td>0.911580</td>\n",
       "      <td>91.407103</td>\n",
       "      <td>8.879422</td>\n",
       "      <td>0.946001</td>\n",
       "      <td>1.333041</td>\n",
       "      <td>9.452262</td>\n",
       "      <td>9.792244</td>\n",
       "      <td>3.260315</td>\n",
       "      <td>...</td>\n",
       "      <td>0.178373</td>\n",
       "      <td>3.932602</td>\n",
       "      <td>1.604779</td>\n",
       "      <td>3.859494</td>\n",
       "      <td>0.142815</td>\n",
       "      <td>0</td>\n",
       "      <td>NaN</td>\n",
       "      <td>0.208130</td>\n",
       "      <td>0</td>\n",
       "      <td>NaN</td>\n",
       "    </tr>\n",
       "    <tr>\n",
       "      <th>min</th>\n",
       "      <td>77</td>\n",
       "      <td>1.000000</td>\n",
       "      <td>1.000000</td>\n",
       "      <td>100.000000</td>\n",
       "      <td>1.000000</td>\n",
       "      <td>1.000000</td>\n",
       "      <td>1.000000</td>\n",
       "      <td>19.000000</td>\n",
       "      <td>0.000000</td>\n",
       "      <td>1.000000</td>\n",
       "      <td>...</td>\n",
       "      <td>0.000000</td>\n",
       "      <td>0.000000</td>\n",
       "      <td>0.000000</td>\n",
       "      <td>0.000000</td>\n",
       "      <td>0.185185</td>\n",
       "      <td>0</td>\n",
       "      <td>NaN</td>\n",
       "      <td>0.000000</td>\n",
       "      <td>0</td>\n",
       "      <td>NaN</td>\n",
       "    </tr>\n",
       "    <tr>\n",
       "      <th>25%</th>\n",
       "      <td>77</td>\n",
       "      <td>216.000000</td>\n",
       "      <td>1.000000</td>\n",
       "      <td>102.000000</td>\n",
       "      <td>7.000000</td>\n",
       "      <td>1.000000</td>\n",
       "      <td>5.000000</td>\n",
       "      <td>37.000000</td>\n",
       "      <td>14.000000</td>\n",
       "      <td>25.000000</td>\n",
       "      <td>...</td>\n",
       "      <td>0.590909</td>\n",
       "      <td>9.000000</td>\n",
       "      <td>2.000000</td>\n",
       "      <td>13.000000</td>\n",
       "      <td>0.555556</td>\n",
       "      <td>0</td>\n",
       "      <td>NaN</td>\n",
       "      <td>0.350000</td>\n",
       "      <td>0</td>\n",
       "      <td>NaN</td>\n",
       "    </tr>\n",
       "    <tr>\n",
       "      <th>50%</th>\n",
       "      <td>77</td>\n",
       "      <td>544.000000</td>\n",
       "      <td>2.000000</td>\n",
       "      <td>202.000000</td>\n",
       "      <td>14.000000</td>\n",
       "      <td>1.000000</td>\n",
       "      <td>5.000000</td>\n",
       "      <td>43.000000</td>\n",
       "      <td>22.000000</td>\n",
       "      <td>27.000000</td>\n",
       "      <td>...</td>\n",
       "      <td>0.714286</td>\n",
       "      <td>12.000000</td>\n",
       "      <td>3.000000</td>\n",
       "      <td>16.000000</td>\n",
       "      <td>0.666667</td>\n",
       "      <td>0</td>\n",
       "      <td>NaN</td>\n",
       "      <td>0.450000</td>\n",
       "      <td>0</td>\n",
       "      <td>NaN</td>\n",
       "    </tr>\n",
       "    <tr>\n",
       "      <th>75%</th>\n",
       "      <td>77</td>\n",
       "      <td>1404.000000</td>\n",
       "      <td>3.000000</td>\n",
       "      <td>301.000000</td>\n",
       "      <td>21.000000</td>\n",
       "      <td>3.000000</td>\n",
       "      <td>5.000000</td>\n",
       "      <td>49.000000</td>\n",
       "      <td>27.000000</td>\n",
       "      <td>29.000000</td>\n",
       "      <td>...</td>\n",
       "      <td>0.818182</td>\n",
       "      <td>14.000000</td>\n",
       "      <td>4.000000</td>\n",
       "      <td>18.000000</td>\n",
       "      <td>0.740741</td>\n",
       "      <td>0</td>\n",
       "      <td>NaN</td>\n",
       "      <td>0.650000</td>\n",
       "      <td>0</td>\n",
       "      <td>NaN</td>\n",
       "    </tr>\n",
       "    <tr>\n",
       "      <th>max</th>\n",
       "      <td>77</td>\n",
       "      <td>9346.000000</td>\n",
       "      <td>4.000000</td>\n",
       "      <td>432.000000</td>\n",
       "      <td>94.000000</td>\n",
       "      <td>3.000000</td>\n",
       "      <td>7.000000</td>\n",
       "      <td>74.000000</td>\n",
       "      <td>55.000000</td>\n",
       "      <td>35.000000</td>\n",
       "      <td>...</td>\n",
       "      <td>1.000000</td>\n",
       "      <td>17.000000</td>\n",
       "      <td>6.000000</td>\n",
       "      <td>22.000000</td>\n",
       "      <td>0.962963</td>\n",
       "      <td>0</td>\n",
       "      <td>NaN</td>\n",
       "      <td>1.000000</td>\n",
       "      <td>0</td>\n",
       "      <td>NaN</td>\n",
       "    </tr>\n",
       "  </tbody>\n",
       "</table>\n",
       "<p>8 rows × 42 columns</p>\n",
       "</div>"
      ],
      "text/plain": [
       "       RegionID      SchoolID   ClassNumber       ClassID     StudentID  \\\n",
       "count     65535  65535.000000  65535.000000  65535.000000  65535.000000   \n",
       "mean         77    996.678141      2.055192    207.704570     14.428550   \n",
       "std           0   1527.052579      0.911580     91.407103      8.879422   \n",
       "min          77      1.000000      1.000000    100.000000      1.000000   \n",
       "25%          77    216.000000      1.000000    102.000000      7.000000   \n",
       "50%          77    544.000000      2.000000    202.000000     14.000000   \n",
       "75%          77   1404.000000      3.000000    301.000000     21.000000   \n",
       "max          77   9346.000000      4.000000    432.000000     94.000000   \n",
       "\n",
       "       SchoolTypeID  SchoolKindID    TeacherAge  TeacherExperience  \\\n",
       "count  64775.000000  64801.000000  64824.000000       64795.000000   \n",
       "mean       1.718070      4.651471     43.055427          20.894791   \n",
       "std        0.946001      1.333041      9.452262           9.792244   \n",
       "min        1.000000      1.000000     19.000000           0.000000   \n",
       "25%        1.000000      5.000000     37.000000          14.000000   \n",
       "50%        1.000000      5.000000     43.000000          22.000000   \n",
       "75%        3.000000      5.000000     49.000000          27.000000   \n",
       "max        3.000000      7.000000     74.000000          55.000000   \n",
       "\n",
       "       StudentsCount    ...      PercentLIT_XT  ScoreObyazLIT_XT  \\\n",
       "count   64824.000000    ...       38081.000000      38081.000000   \n",
       "mean       26.706791    ...           0.700729         11.124498   \n",
       "std         3.260315    ...           0.178373          3.932602   \n",
       "min         1.000000    ...           0.000000          0.000000   \n",
       "25%        25.000000    ...           0.590909          9.000000   \n",
       "50%        27.000000    ...           0.714286         12.000000   \n",
       "75%        29.000000    ...           0.818182         14.000000   \n",
       "max        35.000000    ...           1.000000         17.000000   \n",
       "\n",
       "       ScoreDopLIT_XT   ScoreLIT_XT   PercentOM  ScoreObyazOM  ScoreOM  \\\n",
       "count    16893.000000  35984.000000  173.000000           173        0   \n",
       "mean         3.294264     15.278707    0.627489             0      NaN   \n",
       "std          1.604779      3.859494    0.142815             0      NaN   \n",
       "min          0.000000      0.000000    0.185185             0      NaN   \n",
       "25%          2.000000     13.000000    0.555556             0      NaN   \n",
       "50%          3.000000     16.000000    0.666667             0      NaN   \n",
       "75%          4.000000     18.000000    0.740741             0      NaN   \n",
       "max          6.000000     22.000000    0.962963             0      NaN   \n",
       "\n",
       "       PercentENGL  ScoreObyazENGL  ScoreENGL  \n",
       "count   399.000000             399          0  \n",
       "mean      0.493985               0        NaN  \n",
       "std       0.208130               0        NaN  \n",
       "min       0.000000               0        NaN  \n",
       "25%       0.350000               0        NaN  \n",
       "50%       0.450000               0        NaN  \n",
       "75%       0.650000               0        NaN  \n",
       "max       1.000000               0        NaN  \n",
       "\n",
       "[8 rows x 42 columns]"
      ]
     },
     "execution_count": 3,
     "metadata": {},
     "output_type": "execute_result"
    }
   ],
   "source": [
    "data.describe()"
   ]
  },
  {
   "cell_type": "code",
   "execution_count": 6,
   "metadata": {
    "collapsed": false
   },
   "outputs": [
    {
     "data": {
      "text/html": [
       "<div>\n",
       "<table border=\"1\" class=\"dataframe\">\n",
       "  <thead>\n",
       "    <tr style=\"text-align: right;\">\n",
       "      <th></th>\n",
       "      <th>RegionID</th>\n",
       "      <th>SchoolID</th>\n",
       "      <th>ClassNumber</th>\n",
       "      <th>ClassID</th>\n",
       "      <th>StudentID</th>\n",
       "      <th>SchoolType</th>\n",
       "      <th>SchoolTypeID</th>\n",
       "      <th>SchoolKind</th>\n",
       "      <th>SchoolKindID</th>\n",
       "      <th>TeacherAge</th>\n",
       "      <th>...</th>\n",
       "      <th>PercentLIT_XT</th>\n",
       "      <th>ScoreObyazLIT_XT</th>\n",
       "      <th>ScoreDopLIT_XT</th>\n",
       "      <th>ScoreLIT_XT</th>\n",
       "      <th>PercentOM</th>\n",
       "      <th>ScoreObyazOM</th>\n",
       "      <th>ScoreOM</th>\n",
       "      <th>PercentENGL</th>\n",
       "      <th>ScoreObyazENGL</th>\n",
       "      <th>ScoreENGL</th>\n",
       "    </tr>\n",
       "  </thead>\n",
       "  <tbody>\n",
       "    <tr>\n",
       "      <th>0</th>\n",
       "      <td>77</td>\n",
       "      <td>1</td>\n",
       "      <td>1</td>\n",
       "      <td>101</td>\n",
       "      <td>1</td>\n",
       "      <td>начальная</td>\n",
       "      <td>1</td>\n",
       "      <td>с углубленным изучением отдельных предметов</td>\n",
       "      <td>6</td>\n",
       "      <td>64</td>\n",
       "      <td>...</td>\n",
       "      <td>NaN</td>\n",
       "      <td>NaN</td>\n",
       "      <td>NaN</td>\n",
       "      <td>NaN</td>\n",
       "      <td>NaN</td>\n",
       "      <td>NaN</td>\n",
       "      <td>NaN</td>\n",
       "      <td>NaN</td>\n",
       "      <td>NaN</td>\n",
       "      <td>NaN</td>\n",
       "    </tr>\n",
       "    <tr>\n",
       "      <th>1</th>\n",
       "      <td>77</td>\n",
       "      <td>1</td>\n",
       "      <td>1</td>\n",
       "      <td>101</td>\n",
       "      <td>2</td>\n",
       "      <td>начальная</td>\n",
       "      <td>1</td>\n",
       "      <td>с углубленным изучением отдельных предметов</td>\n",
       "      <td>6</td>\n",
       "      <td>64</td>\n",
       "      <td>...</td>\n",
       "      <td>NaN</td>\n",
       "      <td>NaN</td>\n",
       "      <td>NaN</td>\n",
       "      <td>NaN</td>\n",
       "      <td>NaN</td>\n",
       "      <td>NaN</td>\n",
       "      <td>NaN</td>\n",
       "      <td>NaN</td>\n",
       "      <td>NaN</td>\n",
       "      <td>NaN</td>\n",
       "    </tr>\n",
       "    <tr>\n",
       "      <th>2</th>\n",
       "      <td>77</td>\n",
       "      <td>1</td>\n",
       "      <td>1</td>\n",
       "      <td>101</td>\n",
       "      <td>3</td>\n",
       "      <td>начальная</td>\n",
       "      <td>1</td>\n",
       "      <td>с углубленным изучением отдельных предметов</td>\n",
       "      <td>6</td>\n",
       "      <td>64</td>\n",
       "      <td>...</td>\n",
       "      <td>NaN</td>\n",
       "      <td>NaN</td>\n",
       "      <td>NaN</td>\n",
       "      <td>NaN</td>\n",
       "      <td>NaN</td>\n",
       "      <td>NaN</td>\n",
       "      <td>NaN</td>\n",
       "      <td>NaN</td>\n",
       "      <td>NaN</td>\n",
       "      <td>NaN</td>\n",
       "    </tr>\n",
       "    <tr>\n",
       "      <th>3</th>\n",
       "      <td>77</td>\n",
       "      <td>1</td>\n",
       "      <td>1</td>\n",
       "      <td>101</td>\n",
       "      <td>4</td>\n",
       "      <td>начальная</td>\n",
       "      <td>1</td>\n",
       "      <td>с углубленным изучением отдельных предметов</td>\n",
       "      <td>6</td>\n",
       "      <td>64</td>\n",
       "      <td>...</td>\n",
       "      <td>NaN</td>\n",
       "      <td>NaN</td>\n",
       "      <td>NaN</td>\n",
       "      <td>NaN</td>\n",
       "      <td>NaN</td>\n",
       "      <td>NaN</td>\n",
       "      <td>NaN</td>\n",
       "      <td>NaN</td>\n",
       "      <td>NaN</td>\n",
       "      <td>NaN</td>\n",
       "    </tr>\n",
       "    <tr>\n",
       "      <th>4</th>\n",
       "      <td>77</td>\n",
       "      <td>1</td>\n",
       "      <td>1</td>\n",
       "      <td>101</td>\n",
       "      <td>5</td>\n",
       "      <td>начальная</td>\n",
       "      <td>1</td>\n",
       "      <td>с углубленным изучением отдельных предметов</td>\n",
       "      <td>6</td>\n",
       "      <td>64</td>\n",
       "      <td>...</td>\n",
       "      <td>NaN</td>\n",
       "      <td>NaN</td>\n",
       "      <td>NaN</td>\n",
       "      <td>NaN</td>\n",
       "      <td>NaN</td>\n",
       "      <td>NaN</td>\n",
       "      <td>NaN</td>\n",
       "      <td>NaN</td>\n",
       "      <td>NaN</td>\n",
       "      <td>NaN</td>\n",
       "    </tr>\n",
       "  </tbody>\n",
       "</table>\n",
       "<p>5 rows × 48 columns</p>\n",
       "</div>"
      ],
      "text/plain": [
       "   RegionID  SchoolID  ClassNumber  ClassID  StudentID SchoolType  \\\n",
       "0        77         1            1      101          1  начальная   \n",
       "1        77         1            1      101          2  начальная   \n",
       "2        77         1            1      101          3  начальная   \n",
       "3        77         1            1      101          4  начальная   \n",
       "4        77         1            1      101          5  начальная   \n",
       "\n",
       "   SchoolTypeID                                   SchoolKind  SchoolKindID  \\\n",
       "0             1  с углубленным изучением отдельных предметов             6   \n",
       "1             1  с углубленным изучением отдельных предметов             6   \n",
       "2             1  с углубленным изучением отдельных предметов             6   \n",
       "3             1  с углубленным изучением отдельных предметов             6   \n",
       "4             1  с углубленным изучением отдельных предметов             6   \n",
       "\n",
       "   TeacherAge    ...     PercentLIT_XT  ScoreObyazLIT_XT  ScoreDopLIT_XT  \\\n",
       "0          64    ...               NaN               NaN             NaN   \n",
       "1          64    ...               NaN               NaN             NaN   \n",
       "2          64    ...               NaN               NaN             NaN   \n",
       "3          64    ...               NaN               NaN             NaN   \n",
       "4          64    ...               NaN               NaN             NaN   \n",
       "\n",
       "   ScoreLIT_XT PercentOM  ScoreObyazOM  ScoreOM PercentENGL  ScoreObyazENGL  \\\n",
       "0          NaN       NaN           NaN      NaN         NaN             NaN   \n",
       "1          NaN       NaN           NaN      NaN         NaN             NaN   \n",
       "2          NaN       NaN           NaN      NaN         NaN             NaN   \n",
       "3          NaN       NaN           NaN      NaN         NaN             NaN   \n",
       "4          NaN       NaN           NaN      NaN         NaN             NaN   \n",
       "\n",
       "   ScoreENGL  \n",
       "0        NaN  \n",
       "1        NaN  \n",
       "2        NaN  \n",
       "3        NaN  \n",
       "4        NaN  \n",
       "\n",
       "[5 rows x 48 columns]"
      ]
     },
     "execution_count": 6,
     "metadata": {},
     "output_type": "execute_result"
    }
   ],
   "source": [
    "data.head()"
   ]
  },
  {
   "cell_type": "code",
   "execution_count": 388,
   "metadata": {
    "collapsed": false
   },
   "outputs": [
    {
     "data": {
      "text/plain": [
       "Index(['RegionID', 'SchoolID', 'ClassNumber', 'ClassID', 'StudentID',\n",
       "       'SchoolType', 'SchoolTypeID', 'SchoolKind', 'SchoolKindID',\n",
       "       'TeacherAge', 'TeacherRank', 'TeacherExperience', 'StudentsCount',\n",
       "       'LessonsMa', 'BooksMa', 'BooksMaID', 'LessonsRu', 'BooksRu',\n",
       "       'BooksRuID', 'LessonsLi', 'BooksLi', 'BooksLiID', 'PercentMA',\n",
       "       'ScoreObyazMA', 'ScoreDopMA', 'ScoreMA', 'PercentRU', 'ScoreObyazRU',\n",
       "       'ScoreDopRu', 'ScoreRU', 'PercentLIT', 'ScoreObyazLIT', 'ScoreDopLIT',\n",
       "       'ScoreLIT', 'PercentLIT_IT', 'ScoreObyazLIT_IT', 'ScoreDopLIT_IT',\n",
       "       'ScoreLIT_IT', 'PercentLIT_XT', 'ScoreObyazLIT_XT', 'ScoreDopLIT_XT',\n",
       "       'ScoreLIT_XT', 'PercentOM', 'ScoreObyazOM', 'ScoreOM', 'PercentENGL',\n",
       "       'ScoreObyazENGL', 'ScoreENGL'],\n",
       "      dtype='object')"
      ]
     },
     "execution_count": 388,
     "metadata": {},
     "output_type": "execute_result"
    }
   ],
   "source": [
    "data.columns"
   ]
  },
  {
   "cell_type": "code",
   "execution_count": 389,
   "metadata": {
    "collapsed": false
   },
   "outputs": [
    {
     "data": {
      "text/plain": [
       "BooksMa\n",
       "\"Александрова Э.И. (УМК \"\"Классическая начальная школа\"\")\"       80\n",
       "\"Минаева С.С., Рослова Л.О., Рыдзе О.А. (ВЕНТАНА-ГРАФ) \"         67\n",
       "Александрова Э.И. (Система Д.Б. Эльконина - В.В. Давыдова)      397\n",
       "Аргинская И.И. и др.                                           2596\n",
       "Башмаков М.И. и др.                                            2439\n",
       "Гейдман Б.П. и др.                                             6058\n",
       "Давыдов В.В. и др.                                              199\n",
       "Демидова Т.Е. и др                                             4387\n",
       "Другой учебник                                                 1032\n",
       "Истомина Н.Б.                                                  6171\n",
       "Моро М.И. и др.                                               23982\n",
       "Петерсон Л.Г.                                                 12913\n",
       "Рудницкая В.Н. и др.                                           3547\n",
       "Чекин А.Л.                                                      981\n",
       "dtype: int64"
      ]
     },
     "execution_count": 389,
     "metadata": {},
     "output_type": "execute_result"
    }
   ],
   "source": [
    "data.groupby('BooksMa').size()"
   ]
  },
  {
   "cell_type": "markdown",
   "metadata": {},
   "source": [
    "## Определяем типы данных"
   ]
  },
  {
   "cell_type": "code",
   "execution_count": 212,
   "metadata": {
    "collapsed": false
   },
   "outputs": [],
   "source": [
    "data['ScoreObyazMA'] = pandas.to_numeric(data['ScoreObyazMA'])\n",
    "data['ScoreObyazRU'] = pandas.to_numeric(data['ScoreObyazRU'])\n",
    "data['ScoreObyazLIT'] = pandas.to_numeric(data['ScoreObyazLIT'])\n",
    "data['ClassNumber'] = pandas.to_numeric(data['ClassNumber'])\n",
    "data['SchoolTypeID'] = pandas.to_numeric(data['SchoolTypeID'])\n",
    "data['SchoolKindID'] = pandas.to_numeric(data['SchoolKindID'])\n",
    "data['TeacherAge'] = pandas.to_numeric(data['TeacherAge'])\n",
    "data['BooksMaID'] = pandas.to_numeric(data['BooksMaID'])\n",
    "data['BooksRuID'] = pandas.to_numeric(data['BooksRuID'])\n",
    "data['BooksLiID'] = pandas.to_numeric(data['BooksLiID'])\n",
    "data['LessonsMa'] = pandas.to_numeric(data['LessonsMa'])\n",
    "data['LessonsRu'] = pandas.to_numeric(data['LessonsRu'])\n",
    "data['LessonsLi'] = pandas.to_numeric(data['LessonsLi'])"
   ]
  },
  {
   "cell_type": "markdown",
   "metadata": {},
   "source": [
    "## Пример выделения подмассива"
   ]
  },
  {
   "cell_type": "code",
   "execution_count": 222,
   "metadata": {
    "collapsed": true
   },
   "outputs": [],
   "source": [
    "class1 = data[(data['ClassNumber'] == 1)]"
   ]
  },
  {
   "cell_type": "markdown",
   "metadata": {},
   "source": [
    "### Распределение записей по книгам по математике"
   ]
  },
  {
   "cell_type": "code",
   "execution_count": 223,
   "metadata": {
    "collapsed": false
   },
   "outputs": [
    {
     "data": {
      "text/plain": [
       "BooksMaID\n",
       "1       30\n",
       "3      159\n",
       "4      765\n",
       "5      791\n",
       "6     2393\n",
       "7       27\n",
       "8     1038\n",
       "9     2291\n",
       "10    8452\n",
       "11    4268\n",
       "12     973\n",
       "13     261\n",
       "14     711\n",
       "dtype: int64"
      ]
     },
     "execution_count": 223,
     "metadata": {},
     "output_type": "execute_result"
    }
   ],
   "source": [
    "cl1 = class1.groupby('BooksMaID').size()\n",
    "cl1\n",
    "#видим, что по книгам 1,7 слишком мало наблюдений, возможно их лучше вообще исключить"
   ]
  },
  {
   "cell_type": "markdown",
   "metadata": {},
   "source": [
    "#### Формируем массив для учебников по математике из class1 (!). Пример отбрасывания учебников 1 и 7, так как по ним слишком мало результатов. Последняя проверка убирает NaN. Отбираем только 2 столбца для нового массива в columns."
   ]
  },
  {
   "cell_type": "code",
   "execution_count": 224,
   "metadata": {
    "collapsed": false
   },
   "outputs": [],
   "source": [
    "class1_math_book = pandas.DataFrame(class1[(class1['BooksMaID'] != 1) & (class1['BooksMaID'] != 7) & (class1['ScoreObyazMA'] == class1['ScoreObyazMA'])],columns=['BooksMaID','ScoreObyazMA'])"
   ]
  },
  {
   "cell_type": "code",
   "execution_count": 225,
   "metadata": {
    "collapsed": false
   },
   "outputs": [
    {
     "data": {
      "text/plain": [
       "BooksMaID\n",
       "3      128\n",
       "4      712\n",
       "5      734\n",
       "6     2211\n",
       "8      985\n",
       "9     2023\n",
       "10    7008\n",
       "11    3848\n",
       "12     894\n",
       "13     243\n",
       "14     671\n",
       "dtype: int64"
      ]
     },
     "execution_count": 225,
     "metadata": {},
     "output_type": "execute_result"
    }
   ],
   "source": [
    "class1_math_book.groupby('BooksMaID').size()"
   ]
  },
  {
   "cell_type": "markdown",
   "metadata": {},
   "source": [
    "#### DataFrame необходимо перевести в список списков для того, чтобы отправить в критерий Ливини. (результаты по разным учебникам группируем в отдельные списки)"
   ]
  },
  {
   "cell_type": "code",
   "execution_count": 351,
   "metadata": {
    "collapsed": false
   },
   "outputs": [],
   "source": [
    "lists = [pandas.DataFrame(class1_math_book[(class1_math_book[\"BooksMaID\"]==k)]['ScoreObyazMA']) for k,g in class1_math_book.groupby(\"BooksMaID\")]"
   ]
  },
  {
   "cell_type": "markdown",
   "metadata": {},
   "source": [
    "#### Если значение критерия Ливини меньше 0.05, то дисперсии не однородны, ANOVA проводить не можем"
   ]
  },
  {
   "cell_type": "code",
   "execution_count": 279,
   "metadata": {
    "collapsed": false
   },
   "outputs": [
    {
     "name": "stdout",
     "output_type": "stream",
     "text": [
      "[ 7.74792709]\n",
      "[  1.66318227e-12]\n"
     ]
    }
   ],
   "source": [
    "statist, p_val = scipy.stats.levene(*list(lists))\n",
    "print(statist)\n",
    "print(p_val)"
   ]
  },
  {
   "cell_type": "markdown",
   "metadata": {},
   "source": [
    "### Функция объединила все, что разобрано выше + дополнение. Идет по классам и вычисляет Ливини для переданных полей. Второй аргумент - поле, по которому группируем, третий - Результаты по КР"
   ]
  },
  {
   "cell_type": "code",
   "execution_count": 681,
   "metadata": {
    "collapsed": false
   },
   "outputs": [],
   "source": [
    "def go_classes(data, id_book_cell_name, score_cell_name, min_count=0, max_count=100000, class_begin=1, class_end=4):\n",
    "    \"\"\"\n",
    "    Функция вычисляет значение критерия Ливини (однородности дисперсий по наборам данных). Если значение > 0.05, то разрешается проводить ANOVA.\n",
    "    data - DataFrame с данными\n",
    "    id_book_cell_name - имя поля в датафрейме, в котором хранится группирующая переменная\n",
    "    score_cell_name - имя поля в датафрейме, в котором содержатся результаты учащихся (результаты группируются в списки по полю id_book_cell_name, \n",
    "    по которым вычисляется Ливини)\n",
    "    На значение критерия влиет разброс количества данныхв наборах. Некоторые данные отбросим.\n",
    "    min_count - минимальное количество записей, которые возможны для анализа\n",
    "    max_count - верхняя граница числа записей для анализа\n",
    "    class_begin - срез по классам (начало) 0 для среза по всем классам\n",
    "    class_end - размер среза по классам (конец) 1 для среза по всем классам\n",
    "    \"\"\"\n",
    "    for class_num in range(class_begin,class_end):\n",
    "        print(\"Ведем разбор для класса \",class_num)\n",
    "        #выделяем подмассив с текущим классом\n",
    "        if class_begin != 0:\n",
    "            class1 = data[(data['ClassNumber'] == class_num)]\n",
    "        else:\n",
    "            class1 = data\n",
    "        #формируем DataFrame из двух столбцов\n",
    "        class1_math_book = pandas.DataFrame(class1[(class1[score_cell_name] == class1[score_cell_name])],columns=[id_book_cell_name,score_cell_name])\n",
    "        #print(class1_math_book)\n",
    "        if class1_math_book.empty == False:\n",
    "            print(class1_math_book.groupby(id_book_cell_name).size())\n",
    "            #собрали ключи, по которым будем анализировать данные (кол-во записей укладывается в заданный диапазон)\n",
    "            list_of_keys = [int(class1_math_book.groupby(id_book_cell_name).size().keys()[item]) \n",
    "                            for item in range(len(class1_math_book.groupby(id_book_cell_name).size().values)) \n",
    "                            if class1_math_book.groupby(id_book_cell_name).size().values[item] > min_count and \n",
    "                            class1_math_book.groupby(id_book_cell_name).size().values[item] < max_count]\n",
    "            print(list_of_keys)\n",
    "            #переводим в список списков\n",
    "            lists = [pandas.DataFrame(class1_math_book[(class1_math_book[id_book_cell_name]==k)][score_cell_name]) for k,g in class1_math_book.groupby(id_book_cell_name)]\n",
    "            #убираем слишком маленькие значения\n",
    "            r = [i for i in lists if len(i) > min_count and len(i) < max_count]\n",
    "            print(\"Списки, которые идут в Ливини\")\n",
    "            print([len(i) for i in r])\n",
    "            statist, p_val = scipy.stats.levene(*list(r))\n",
    "            print(\"Значение критерия Ливини\")\n",
    "            print(statist)\n",
    "            print(p_val)\n",
    "            if p_val > 0.044:\n",
    "                #формируем dataframe для ANOVA по ранее полученному списку ключей, по которым будем проводить анализ\n",
    "                new_frame = class1_math_book[class1_math_book[id_book_cell_name].isin(list_of_keys)]\n",
    "                #print(new_frame.describe())\n",
    "                new_frame[score_cell_name] = pandas.to_numeric(new_frame[score_cell_name])\n",
    "                #ANOVA\n",
    "                model = smf.ols(formula= score_cell_name + ' ~ ' + 'C(' + id_book_cell_name + ')', data = new_frame)\n",
    "                result = model.fit()\n",
    "                print(result.summary())\n",
    "                # если результат по ANOVA статистич значим, то смотрим, по какой выборке больше/меньше среднее\n",
    "                if result.f_pvalue <= 0.05:\n",
    "                    print(\"MEAN\")\n",
    "                    print(new_frame.groupby(id_book_cell_name).mean())\n",
    "                    print(\"ST.DEV.\")\n",
    "                    print(new_frame.groupby(id_book_cell_name).std())\n",
    "                    #если количество сравниваемых выборок более 2, то применяем множественное сравнение\n",
    "                    if len(list_of_keys) > 2:\n",
    "                        mc = multi.MultiComparison(new_frame[score_cell_name],new_frame[id_book_cell_name])\n",
    "                        res = mc.tukeyhsd()\n",
    "                        print(\"Множественное сравнение\")\n",
    "                        print(res.summary())\n",
    "                else:\n",
    "                    print(\"СТАТИСТИЧЕСКИ ЗНАЧИМЫХ РАЗЛИЧИЙ ПО ANOVA НЕ ВЫЯВЛЕНО\")\n",
    "                del(new_frame)\n",
    "                \n",
    "        else:\n",
    "            print(\"Данные по этому классу не найдены\")"
   ]
  },
  {
   "cell_type": "markdown",
   "metadata": {},
   "source": [
    "# Формируем различные срезы по данным, считаем Ливини и ANOVA, если возможно"
   ]
  },
  {
   "cell_type": "code",
   "execution_count": 682,
   "metadata": {
    "collapsed": false
   },
   "outputs": [
    {
     "name": "stdout",
     "output_type": "stream",
     "text": [
      "Ведем разбор для класса  1\n",
      "BooksMaID\n",
      "1       29\n",
      "3      128\n",
      "4      712\n",
      "5      734\n",
      "6     2211\n",
      "7       27\n",
      "8      985\n",
      "9     2023\n",
      "10    7008\n",
      "11    3848\n",
      "12     894\n",
      "13     243\n",
      "14     671\n",
      "dtype: int64\n",
      "[6, 9]\n",
      "Списки, которые идут в Ливини\n",
      "[2211, 2023]\n",
      "Значение критерия Ливини\n",
      "[ 1.75295902]\n",
      "[ 0.18557668]\n",
      "                            OLS Regression Results                            \n",
      "==============================================================================\n",
      "Dep. Variable:           ScoreObyazMA   R-squared:                       0.006\n",
      "Model:                            OLS   Adj. R-squared:                  0.006\n",
      "Method:                 Least Squares   F-statistic:                     25.28\n",
      "Date:                Sat, 21 May 2016   Prob (F-statistic):           5.15e-07\n",
      "Time:                        21:32:54   Log-Likelihood:                -7662.8\n",
      "No. Observations:                4234   AIC:                         1.533e+04\n",
      "Df Residuals:                    4232   BIC:                         1.534e+04\n",
      "Df Model:                           1                                         \n",
      "Covariance Type:            nonrobust                                         \n",
      "=======================================================================================\n",
      "                          coef    std err          t      P>|t|      [95.0% Conf. Int.]\n",
      "---------------------------------------------------------------------------------------\n",
      "Intercept               8.8417      0.031    281.172      0.000         8.780     8.903\n",
      "C(BooksMaID)[T.9.0]    -0.2287      0.045     -5.028      0.000        -0.318    -0.140\n",
      "==============================================================================\n",
      "Omnibus:                     1638.258   Durbin-Watson:                   1.426\n",
      "Prob(Omnibus):                  0.000   Jarque-Bera (JB):             7349.596\n",
      "Skew:                          -1.850   Prob(JB):                         0.00\n",
      "Kurtosis:                       8.289   Cond. No.                         2.57\n",
      "==============================================================================\n",
      "\n",
      "Warnings:\n",
      "[1] Standard Errors assume that the covariance matrix of the errors is correctly specified.\n",
      "MEAN\n",
      "           ScoreObyazMA\n",
      "BooksMaID              \n",
      "6              8.841701\n",
      "9              8.612951\n",
      "ST.DEV.\n",
      "           ScoreObyazMA\n",
      "BooksMaID              \n",
      "6              1.489723\n",
      "9              1.466396\n",
      "Ведем разбор для класса  2\n",
      "BooksMaID\n",
      "1       45\n",
      "3       99\n",
      "4      786\n",
      "5      625\n",
      "6     1398\n",
      "7       22\n",
      "8     1255\n",
      "9     1657\n",
      "10    6857\n",
      "11    3256\n",
      "12    1090\n",
      "13     289\n",
      "14     200\n",
      "dtype: int64\n",
      "[6, 8, 9, 12]\n",
      "Списки, которые идут в Ливини\n",
      "[1398, 1255, 1657, 1090]\n",
      "Значение критерия Ливини\n",
      "[ 3.9096582]\n",
      "[ 0.00841694]\n",
      "Ведем разбор для класса  3\n",
      "BooksMaID\n",
      "2       65\n",
      "3       99\n",
      "4      873\n",
      "5      696\n",
      "6     1794\n",
      "7       87\n",
      "8     1542\n",
      "9     1652\n",
      "10    6733\n",
      "11    4337\n",
      "12    1162\n",
      "13     360\n",
      "14      66\n",
      "dtype: int64\n",
      "[6, 8, 9, 12]\n",
      "Списки, которые идут в Ливини\n",
      "[1794, 1542, 1652, 1162]\n",
      "Значение критерия Ливини\n",
      "[ 11.01899653]\n",
      "[  3.26621803e-07]\n"
     ]
    },
    {
     "name": "stderr",
     "output_type": "stream",
     "text": [
      "/Users/anastasiapanfilova/anaconda/lib/python3.4/site-packages/ipykernel/__main__.py:46: SettingWithCopyWarning: \n",
      "A value is trying to be set on a copy of a slice from a DataFrame.\n",
      "Try using .loc[row_indexer,col_indexer] = value instead\n",
      "\n",
      "See the caveats in the documentation: http://pandas.pydata.org/pandas-docs/stable/indexing.html#indexing-view-versus-copy\n"
     ]
    }
   ],
   "source": [
    "go_classes(data, \"BooksMaID\", \"ScoreObyazMA\", 1000, 3000, 1, 4)"
   ]
  },
  {
   "cell_type": "markdown",
   "metadata": {},
   "source": [
    "## 3 учебника по математике идут в ANOVA по всем годам"
   ]
  },
  {
   "cell_type": "code",
   "execution_count": 674,
   "metadata": {
    "collapsed": false
   },
   "outputs": [
    {
     "name": "stdout",
     "output_type": "stream",
     "text": [
      "Ведем разбор для класса  0\n",
      "BooksMaID\n",
      "1        74\n",
      "2        65\n",
      "3       326\n",
      "4      2371\n",
      "5      2055\n",
      "6      5403\n",
      "7       136\n",
      "8      3782\n",
      "9      5332\n",
      "10    20598\n",
      "11    11441\n",
      "12     3146\n",
      "13      892\n",
      "14      937\n",
      "dtype: int64\n",
      "[6, 9, 11]\n",
      "Списки, которые идут в Ливини\n",
      "[5403, 5332, 11441]\n",
      "Значение критерия Ливини\n",
      "[ 0.17877243]\n",
      "[ 0.8362974]\n",
      "                            OLS Regression Results                            \n",
      "==============================================================================\n",
      "Dep. Variable:           ScoreObyazMA   R-squared:                       0.016\n",
      "Model:                            OLS   Adj. R-squared:                  0.016\n",
      "Method:                 Least Squares   F-statistic:                     184.5\n",
      "Date:                Sat, 21 May 2016   Prob (F-statistic):           3.57e-80\n",
      "Time:                        21:27:53   Log-Likelihood:                -51090.\n",
      "No. Observations:               22176   AIC:                         1.022e+05\n",
      "Df Residuals:                   22173   BIC:                         1.022e+05\n",
      "Df Model:                           2                                         \n",
      "Covariance Type:            nonrobust                                         \n",
      "========================================================================================\n",
      "                           coef    std err          t      P>|t|      [95.0% Conf. Int.]\n",
      "----------------------------------------------------------------------------------------\n",
      "Intercept                9.6041      0.033    291.359      0.000         9.539     9.669\n",
      "C(BooksMaID)[T.9.0]     -0.3445      0.047     -7.366      0.000        -0.436    -0.253\n",
      "C(BooksMaID)[T.11.0]     0.4064      0.040     10.160      0.000         0.328     0.485\n",
      "==============================================================================\n",
      "Omnibus:                      106.217   Durbin-Watson:                   1.019\n",
      "Prob(Omnibus):                  0.000   Jarque-Bera (JB):              151.037\n",
      "Skew:                          -0.004   Prob(JB):                     1.59e-33\n",
      "Kurtosis:                       3.404   Cond. No.                         4.46\n",
      "==============================================================================\n",
      "\n",
      "Warnings:\n",
      "[1] Standard Errors assume that the covariance matrix of the errors is correctly specified.\n",
      "MEAN\n",
      "           ScoreObyazMA\n",
      "BooksMaID              \n",
      "6              9.604109\n",
      "9              9.259565\n",
      "11            10.010489\n",
      "ST.DEV.\n",
      "           ScoreObyazMA\n",
      "BooksMaID              \n",
      "6              2.429006\n",
      "9              2.426204\n",
      "11             2.418582\n",
      "Множественное сравнение\n",
      "Multiple Comparison of Means - Tukey HSD,FWER=0.05\n",
      "=============================================\n",
      "group1 group2 meandiff  lower   upper  reject\n",
      "---------------------------------------------\n",
      " 6.0    9.0   -0.3445  -0.4542 -0.2349  True \n",
      " 6.0    11.0   0.4064   0.3126  0.5001  True \n",
      " 9.0    11.0   0.7509   0.6568  0.8451  True \n",
      "---------------------------------------------\n"
     ]
    },
    {
     "name": "stderr",
     "output_type": "stream",
     "text": [
      "/Users/anastasiapanfilova/anaconda/lib/python3.4/site-packages/ipykernel/__main__.py:46: SettingWithCopyWarning: \n",
      "A value is trying to be set on a copy of a slice from a DataFrame.\n",
      "Try using .loc[row_indexer,col_indexer] = value instead\n",
      "\n",
      "See the caveats in the documentation: http://pandas.pydata.org/pandas-docs/stable/indexing.html#indexing-view-versus-copy\n"
     ]
    }
   ],
   "source": [
    "go_classes(data, \"BooksMaID\", \"ScoreObyazMA\", 4000, 12000, 0, 1)"
   ]
  },
  {
   "cell_type": "code",
   "execution_count": 675,
   "metadata": {
    "collapsed": false
   },
   "outputs": [
    {
     "name": "stdout",
     "output_type": "stream",
     "text": [
      "Ведем разбор для класса  1\n",
      "BooksRuID\n",
      "1     1186\n",
      "2     2788\n",
      "3       55\n",
      "5     2502\n",
      "6     1686\n",
      "8      143\n",
      "9       53\n",
      "10    1216\n",
      "11    6583\n",
      "12     199\n",
      "13    2207\n",
      "14     369\n",
      "16     378\n",
      "dtype: int64\n",
      "[1, 2, 5, 6, 10, 13]\n",
      "Списки, которые идут в Ливини\n",
      "[1186, 2788, 2502, 1686, 1216, 2207]\n",
      "Значение критерия Ливини\n",
      "[ 2.08542693]\n",
      "[ 0.06408011]\n",
      "                            OLS Regression Results                            \n",
      "==============================================================================\n",
      "Dep. Variable:           ScoreObyazRU   R-squared:                       0.003\n",
      "Model:                            OLS   Adj. R-squared:                  0.003\n",
      "Method:                 Least Squares   F-statistic:                     7.988\n",
      "Date:                Sat, 21 May 2016   Prob (F-statistic):           1.58e-07\n",
      "Time:                        21:29:09   Log-Likelihood:                -30203.\n",
      "No. Observations:               11585   AIC:                         6.042e+04\n",
      "Df Residuals:                   11579   BIC:                         6.046e+04\n",
      "Df Model:                           5                                         \n",
      "Covariance Type:            nonrobust                                         \n",
      "========================================================================================\n",
      "                           coef    std err          t      P>|t|      [95.0% Conf. Int.]\n",
      "----------------------------------------------------------------------------------------\n",
      "Intercept               10.9907      0.095    115.333      0.000        10.804    11.178\n",
      "C(BooksRuID)[T.2.0]      0.0444      0.114      0.390      0.696        -0.179     0.267\n",
      "C(BooksRuID)[T.5.0]     -0.1834      0.116     -1.585      0.113        -0.410     0.043\n",
      "C(BooksRuID)[T.6.0]      0.1831      0.124      1.472      0.141        -0.061     0.427\n",
      "C(BooksRuID)[T.10.0]     0.5101      0.134      3.809      0.000         0.248     0.773\n",
      "C(BooksRuID)[T.13.0]     0.1176      0.118      0.995      0.320        -0.114     0.349\n",
      "==============================================================================\n",
      "Omnibus:                      581.952   Durbin-Watson:                   1.457\n",
      "Prob(Omnibus):                  0.000   Jarque-Bera (JB):              670.630\n",
      "Skew:                          -0.586   Prob(JB):                    2.37e-146\n",
      "Kurtosis:                       2.879   Cond. No.                         8.67\n",
      "==============================================================================\n",
      "\n",
      "Warnings:\n",
      "[1] Standard Errors assume that the covariance matrix of the errors is correctly specified.\n",
      "MEAN\n",
      "           ScoreObyazRU\n",
      "BooksRuID              \n",
      "1             10.990725\n",
      "2             11.035151\n",
      "5             10.807354\n",
      "6             11.173784\n",
      "10            11.500822\n",
      "13            11.108292\n",
      "ST.DEV.\n",
      "           ScoreObyazRU\n",
      "BooksRuID              \n",
      "1              3.151705\n",
      "2              3.241979\n",
      "5              3.324220\n",
      "6              3.194773\n",
      "10             3.266238\n",
      "13             3.423104\n",
      "Множественное сравнение\n",
      "Multiple Comparison of Means - Tukey HSD,FWER=0.05\n",
      "=============================================\n",
      "group1 group2 meandiff  lower   upper  reject\n",
      "---------------------------------------------\n",
      " 1.0    2.0    0.0444  -0.2798  0.3687 False \n",
      " 1.0    5.0   -0.1834  -0.5131  0.1464 False \n",
      " 1.0    6.0    0.1831  -0.1714  0.5375 False \n",
      " 1.0    10.0   0.5101   0.1284  0.8918  True \n",
      " 1.0    13.0   0.1176  -0.2192  0.4543 False \n",
      " 2.0    5.0   -0.2278  -0.4854  0.0298 False \n",
      " 2.0    6.0    0.1386  -0.1499  0.4272 False \n",
      " 2.0    10.0   0.4657   0.1442  0.7871  True \n",
      " 2.0    13.0   0.0731  -0.1934  0.3396 False \n",
      " 5.0    6.0    0.3664   0.0717  0.6612  True \n",
      " 5.0    10.0   0.6935   0.3665  1.0205  True \n",
      " 5.0    13.0   0.3009   0.0278  0.5741  True \n",
      " 6.0    10.0   0.327   -0.0249  0.679  False \n",
      " 6.0    13.0  -0.0655   -0.368  0.2371 False \n",
      " 10.0   13.0  -0.3925  -0.7266 -0.0585  True \n",
      "---------------------------------------------\n",
      "Ведем разбор для класса  2\n",
      "BooksRuID\n",
      "2     2614\n",
      "3       75\n",
      "4      964\n",
      "5     1532\n",
      "6     1680\n",
      "7     2125\n",
      "9       13\n",
      "10     930\n",
      "11    4431\n",
      "12     172\n",
      "13    1627\n",
      "15     338\n",
      "16     874\n",
      "dtype: int64\n",
      "[2, 5, 6, 7, 13]\n",
      "Списки, которые идут в Ливини\n",
      "[2614, 1532, 1680, 2125, 1627]\n",
      "Значение критерия Ливини\n",
      "[ 3.01557582]\n",
      "[ 0.01693988]\n",
      "Ведем разбор для класса  3\n",
      "BooksRuID\n",
      "2     3081\n",
      "3       82\n",
      "4     1132\n",
      "5     1765\n",
      "6     1870\n",
      "7     2570\n",
      "9       25\n",
      "10    1293\n",
      "11    4056\n",
      "12     282\n",
      "13    1840\n",
      "15     445\n",
      "16     955\n",
      "dtype: int64\n",
      "[4, 5, 6, 7, 10, 13]\n",
      "Списки, которые идут в Ливини\n",
      "[1132, 1765, 1870, 2570, 1293, 1840]\n",
      "Значение критерия Ливини\n",
      "[ 16.37251635]\n",
      "[  3.96532519e-16]\n"
     ]
    },
    {
     "name": "stderr",
     "output_type": "stream",
     "text": [
      "/Users/anastasiapanfilova/anaconda/lib/python3.4/site-packages/ipykernel/__main__.py:46: SettingWithCopyWarning: \n",
      "A value is trying to be set on a copy of a slice from a DataFrame.\n",
      "Try using .loc[row_indexer,col_indexer] = value instead\n",
      "\n",
      "See the caveats in the documentation: http://pandas.pydata.org/pandas-docs/stable/indexing.html#indexing-view-versus-copy\n"
     ]
    }
   ],
   "source": [
    "go_classes(data, \"BooksRuID\", \"ScoreObyazRU\", 1000, 3000, 1, 4)"
   ]
  },
  {
   "cell_type": "code",
   "execution_count": 676,
   "metadata": {
    "collapsed": false
   },
   "outputs": [
    {
     "name": "stdout",
     "output_type": "stream",
     "text": [
      "Ведем разбор для класса  0\n",
      "BooksRuID\n",
      "1      1186\n",
      "2      8583\n",
      "3       212\n",
      "4      2170\n",
      "5      5820\n",
      "6      5286\n",
      "7      4954\n",
      "8       143\n",
      "9        91\n",
      "10     3439\n",
      "11    15103\n",
      "12      653\n",
      "13     5823\n",
      "14      369\n",
      "15      806\n",
      "16     2290\n",
      "dtype: int64\n",
      "[2, 11]\n",
      "Списки, которые идут в Ливини\n",
      "[8583, 15103]\n",
      "Значение критерия Ливини\n",
      "[ 5.06262111]\n",
      "[ 0.02445638]\n"
     ]
    }
   ],
   "source": [
    "go_classes(data, \"BooksRuID\", \"ScoreObyazRU\", 6000, 50000, 0, 1)"
   ]
  },
  {
   "cell_type": "code",
   "execution_count": 677,
   "metadata": {
    "collapsed": false
   },
   "outputs": [
    {
     "name": "stdout",
     "output_type": "stream",
     "text": [
      "Ведем разбор для класса  1\n",
      "BooksLiID\n",
      "1       50\n",
      "2     2327\n",
      "3     2862\n",
      "4       52\n",
      "5     1748\n",
      "6     1132\n",
      "7     8557\n",
      "8       48\n",
      "9      218\n",
      "10     151\n",
      "11      86\n",
      "12     979\n",
      "13     502\n",
      "14     555\n",
      "dtype: int64\n",
      "[5, 6]\n",
      "Списки, которые идут в Ливини\n",
      "[1748, 1132]\n",
      "Значение критерия Ливини\n",
      "[ 0.54420862]\n",
      "[ 0.4607539]\n",
      "                            OLS Regression Results                            \n",
      "==============================================================================\n",
      "Dep. Variable:          ScoreObyazLIT   R-squared:                       0.003\n",
      "Model:                            OLS   Adj. R-squared:                  0.003\n",
      "Method:                 Least Squares   F-statistic:                     8.300\n",
      "Date:                Sat, 21 May 2016   Prob (F-statistic):            0.00399\n",
      "Time:                        21:29:45   Log-Likelihood:                -5769.7\n",
      "No. Observations:                2880   AIC:                         1.154e+04\n",
      "Df Residuals:                    2878   BIC:                         1.156e+04\n",
      "Df Model:                           1                                         \n",
      "Covariance Type:            nonrobust                                         \n",
      "=======================================================================================\n",
      "                          coef    std err          t      P>|t|      [95.0% Conf. Int.]\n",
      "---------------------------------------------------------------------------------------\n",
      "Intercept               8.0418      0.043    187.353      0.000         7.958     8.126\n",
      "C(BooksLiID)[T.6.0]    -0.1972      0.068     -2.881      0.004        -0.331    -0.063\n",
      "==============================================================================\n",
      "Omnibus:                      579.039   Durbin-Watson:                   1.727\n",
      "Prob(Omnibus):                  0.000   Jarque-Bera (JB):             1097.722\n",
      "Skew:                          -1.224   Prob(JB):                    4.29e-239\n",
      "Kurtosis:                       4.777   Cond. No.                         2.44\n",
      "==============================================================================\n",
      "\n",
      "Warnings:\n",
      "[1] Standard Errors assume that the covariance matrix of the errors is correctly specified.\n",
      "MEAN\n",
      "           ScoreObyazLIT\n",
      "BooksLiID               \n",
      "5               8.041762\n",
      "6               7.844523\n",
      "ST.DEV.\n",
      "           ScoreObyazLIT\n",
      "BooksLiID               \n",
      "5               1.769155\n",
      "6               1.833145\n",
      "Ведем разбор для класса  2\n",
      "Данные по этому классу не найдены\n",
      "Ведем разбор для класса  3\n",
      "Данные по этому классу не найдены\n"
     ]
    },
    {
     "name": "stderr",
     "output_type": "stream",
     "text": [
      "/Users/anastasiapanfilova/anaconda/lib/python3.4/site-packages/ipykernel/__main__.py:46: SettingWithCopyWarning: \n",
      "A value is trying to be set on a copy of a slice from a DataFrame.\n",
      "Try using .loc[row_indexer,col_indexer] = value instead\n",
      "\n",
      "See the caveats in the documentation: http://pandas.pydata.org/pandas-docs/stable/indexing.html#indexing-view-versus-copy\n"
     ]
    }
   ],
   "source": [
    "go_classes(data, \"BooksLiID\", \"ScoreObyazLIT\", 1000, 2300, 1, 4)"
   ]
  },
  {
   "cell_type": "code",
   "execution_count": 456,
   "metadata": {
    "collapsed": false
   },
   "outputs": [
    {
     "name": "stdout",
     "output_type": "stream",
     "text": [
      "Ведем разбор для класса %s 0\n",
      "BooksLiID\n",
      "1       50\n",
      "2     2327\n",
      "3     2862\n",
      "4       52\n",
      "5     1748\n",
      "6     1132\n",
      "7     8557\n",
      "8       48\n",
      "9      218\n",
      "10     151\n",
      "11      86\n",
      "12     979\n",
      "13     502\n",
      "14     555\n",
      "dtype: int64\n",
      "Списки, которые идут в Ливини\n",
      "[2327, 2862, 1748, 1132]\n",
      "Значение критерия Ливини\n",
      "[ 5.13737411]\n",
      "[ 0.001506]\n"
     ]
    }
   ],
   "source": [
    "go_classes(data, \"BooksLiID\", \"ScoreObyazLIT\", 1000, 8000, 0, 1)"
   ]
  },
  {
   "cell_type": "markdown",
   "metadata": {},
   "source": [
    "## 3 вида школ связаны с математикой"
   ]
  },
  {
   "cell_type": "code",
   "execution_count": 678,
   "metadata": {
    "collapsed": false
   },
   "outputs": [
    {
     "name": "stdout",
     "output_type": "stream",
     "text": [
      "Ведем разбор для класса  0\n",
      "SchoolKindID\n",
      "1     3914\n",
      "2     4447\n",
      "3       37\n",
      "4      208\n",
      "5    39349\n",
      "6     8407\n",
      "7      175\n",
      "dtype: int64\n",
      "[3, 4, 7]\n",
      "Списки, которые идут в Ливини\n",
      "[37, 208, 175]\n",
      "Значение критерия Ливини\n",
      "[ 2.63073137]\n",
      "[ 0.07322099]\n",
      "                            OLS Regression Results                            \n",
      "==============================================================================\n",
      "Dep. Variable:           ScoreObyazMA   R-squared:                       0.377\n",
      "Model:                            OLS   Adj. R-squared:                  0.374\n",
      "Method:                 Least Squares   F-statistic:                     126.3\n",
      "Date:                Sat, 21 May 2016   Prob (F-statistic):           1.35e-43\n",
      "Time:                        21:29:54   Log-Likelihood:                -953.44\n",
      "No. Observations:                 420   AIC:                             1913.\n",
      "Df Residuals:                     417   BIC:                             1925.\n",
      "Df Model:                           2                                         \n",
      "Covariance Type:            nonrobust                                         \n",
      "==========================================================================================\n",
      "                             coef    std err          t      P>|t|      [95.0% Conf. Int.]\n",
      "------------------------------------------------------------------------------------------\n",
      "Intercept                 10.8919      0.386     28.183      0.000        10.132    11.652\n",
      "C(SchoolKindID)[T.4.0]     0.8148      0.419      1.943      0.053        -0.010     1.639\n",
      "C(SchoolKindID)[T.7.0]    -2.9776      0.425     -7.000      0.000        -3.814    -2.141\n",
      "==============================================================================\n",
      "Omnibus:                       44.184   Durbin-Watson:                   1.159\n",
      "Prob(Omnibus):                  0.000   Jarque-Bera (JB):               55.177\n",
      "Skew:                          -0.842   Prob(JB):                     1.04e-12\n",
      "Kurtosis:                       3.562   Cond. No.                         7.14\n",
      "==============================================================================\n",
      "\n",
      "Warnings:\n",
      "[1] Standard Errors assume that the covariance matrix of the errors is correctly specified.\n",
      "MEAN\n",
      "              ScoreObyazMA\n",
      "SchoolKindID              \n",
      "3                10.891892\n",
      "4                11.706731\n",
      "7                 7.914286\n",
      "ST.DEV.\n",
      "              ScoreObyazMA\n",
      "SchoolKindID              \n",
      "3                 2.855636\n",
      "4                 2.485815\n",
      "7                 2.050672\n",
      "Множественное сравнение\n",
      "Multiple Comparison of Means - Tukey HSD,FWER=0.05\n",
      "=============================================\n",
      "group1 group2 meandiff  lower   upper  reject\n",
      "---------------------------------------------\n",
      " 3.0    4.0    0.8148  -0.1718  1.8014 False \n",
      " 3.0    7.0   -2.9776  -3.9781 -1.9771  True \n",
      " 4.0    7.0   -3.7924  -4.3596 -3.2252  True \n",
      "---------------------------------------------\n"
     ]
    },
    {
     "name": "stderr",
     "output_type": "stream",
     "text": [
      "/Users/anastasiapanfilova/anaconda/lib/python3.4/site-packages/ipykernel/__main__.py:46: SettingWithCopyWarning: \n",
      "A value is trying to be set on a copy of a slice from a DataFrame.\n",
      "Try using .loc[row_indexer,col_indexer] = value instead\n",
      "\n",
      "See the caveats in the documentation: http://pandas.pydata.org/pandas-docs/stable/indexing.html#indexing-view-versus-copy\n"
     ]
    }
   ],
   "source": [
    "go_classes(data, \"SchoolKindID\", \"ScoreObyazMA\", 0, 3000, 0,1)"
   ]
  },
  {
   "cell_type": "code",
   "execution_count": 462,
   "metadata": {
    "collapsed": false
   },
   "outputs": [
    {
     "name": "stdout",
     "output_type": "stream",
     "text": [
      "Ведем разбор для класса %s 0\n",
      "SchoolKindID\n",
      "1     3914\n",
      "2     4480\n",
      "3       38\n",
      "4      262\n",
      "5    39637\n",
      "6     8398\n",
      "7      178\n",
      "dtype: int64\n",
      "Списки, которые идут в Ливини\n",
      "[3914, 4480, 38, 262, 8398, 178]\n",
      "Значение критерия Ливини\n",
      "[ 23.42847816]\n",
      "[  1.52551437e-23]\n"
     ]
    }
   ],
   "source": [
    "go_classes(data, \"SchoolKindID\", \"ScoreObyazRU\", 0, 30000, 0,1)"
   ]
  },
  {
   "cell_type": "markdown",
   "metadata": {},
   "source": [
    "## 2 вида школа с результатами по литературе"
   ]
  },
  {
   "cell_type": "code",
   "execution_count": 666,
   "metadata": {
    "collapsed": false
   },
   "outputs": [
    {
     "name": "stdout",
     "output_type": "stream",
     "text": [
      "Ведем разбор для класса  0\n",
      "SchoolKindID\n",
      "1      985\n",
      "2     2344\n",
      "5    13030\n",
      "6     2885\n",
      "7       56\n",
      "dtype: int64\n",
      "[5, 6]\n",
      "Списки, которые идут в Ливини\n",
      "[13030, 2885]\n",
      "Значение критерия Ливини\n",
      "[ 4.1316782]\n",
      "[ 0.04210416]\n"
     ]
    }
   ],
   "source": [
    "go_classes(data, \"SchoolKindID\", \"ScoreObyazLIT\", 2500, 30000, 0,1)"
   ]
  },
  {
   "cell_type": "code",
   "execution_count": 503,
   "metadata": {
    "collapsed": false
   },
   "outputs": [
    {
     "name": "stdout",
     "output_type": "stream",
     "text": [
      "Ведем разбор для класса %s 0\n",
      "TeacherRank\n",
      "1                                      26\n",
      "2                                      37\n",
      "7                                     192\n",
      "8                                     271\n",
      "9                                     316\n",
      "10                                    303\n",
      "11                                    318\n",
      "12                                   3576\n",
      "13                                   5616\n",
      "14                                   8730\n",
      "15                                    128\n",
      "1                                     167\n",
      "10                                    315\n",
      "11                                    440\n",
      "12                                   3088\n",
      "13                                   4459\n",
      "14                                   8130\n",
      "15                                    192\n",
      "2                                      24\n",
      "3                                      28\n",
      "7                                     149\n",
      "8                                     330\n",
      "9                                     257\n",
      "Вторая категория                     2187\n",
      "Высшая категория                     9958\n",
      "Первая категория                     5695\n",
      "Соответствие занимаемой должности    1626\n",
      "dtype: int64\n",
      "Списки, которые идут в Ливини\n",
      "[26, 37, 192, 271, 316, 303, 318, 128, 167, 315, 440, 3088, 192, 24, 28, 149, 330, 257, 2187, 1626]\n",
      "Значение критерия Ливини\n",
      "[ 31.84329768]\n",
      "[  1.33507310e-112]\n"
     ]
    }
   ],
   "source": [
    "go_classes(data, \"TeacherRank\", \"ScoreObyazMA\", 0, 3500, 0,1)"
   ]
  },
  {
   "cell_type": "code",
   "execution_count": 519,
   "metadata": {
    "collapsed": false
   },
   "outputs": [
    {
     "name": "stdout",
     "output_type": "stream",
     "text": [
      "Ведем разбор для класса %s 0\n",
      "TeacherRank\n",
      "1                                       26\n",
      "2                                       37\n",
      "7                                      191\n",
      "8                                      274\n",
      "9                                      312\n",
      "10                                     304\n",
      "11                                     286\n",
      "12                                    3561\n",
      "13                                    5521\n",
      "14                                    8725\n",
      "15                                     128\n",
      "1                                      161\n",
      "10                                     314\n",
      "11                                     436\n",
      "12                                    3019\n",
      "13                                    4371\n",
      "14                                    8088\n",
      "15                                     194\n",
      "2                                       23\n",
      "3                                       28\n",
      "7                                      152\n",
      "8                                      329\n",
      "9                                      260\n",
      "Вторая категория                      2267\n",
      "Высшая категория                     10359\n",
      "Первая категория                      5950\n",
      "Соответствие занимаемой должности     1612\n",
      "dtype: int64\n",
      "Списки, которые идут в Ливини\n",
      "[8725, 8088]\n",
      "Значение критерия Ливини\n",
      "[ 773.24559664]\n",
      "[  2.02276526e-166]\n"
     ]
    }
   ],
   "source": [
    "go_classes(data, \"TeacherRank\", \"ScoreObyazRU\", 8000, 10000, 0,1)"
   ]
  },
  {
   "cell_type": "code",
   "execution_count": 679,
   "metadata": {
    "collapsed": false
   },
   "outputs": [
    {
     "name": "stdout",
     "output_type": "stream",
     "text": [
      "Ведем разбор для класса  0\n",
      "TeacherRank\n",
      "1       26\n",
      "2       35\n",
      "7      189\n",
      "8      271\n",
      "9      306\n",
      "10     274\n",
      "11     311\n",
      "12    3538\n",
      "13    5535\n",
      "14    8713\n",
      "15     122\n",
      "dtype: int64\n",
      "[1, 2, 7, 8, 9, 10, 11, 15]\n",
      "Списки, которые идут в Ливини\n",
      "[26, 35, 189, 271, 306, 274, 311, 122]\n",
      "Значение критерия Ливини\n",
      "[ 0.60111779]\n",
      "[ 0.75542488]\n",
      "                            OLS Regression Results                            \n",
      "==============================================================================\n",
      "Dep. Variable:          ScoreObyazLIT   R-squared:                       0.008\n",
      "Model:                            OLS   Adj. R-squared:                  0.004\n",
      "Method:                 Least Squares   F-statistic:                     1.792\n",
      "Date:                Sat, 21 May 2016   Prob (F-statistic):             0.0849\n",
      "Time:                        21:30:13   Log-Likelihood:                -3279.6\n",
      "No. Observations:                1534   AIC:                             6575.\n",
      "Df Residuals:                    1526   BIC:                             6618.\n",
      "Df Model:                           7                                         \n",
      "Covariance Type:            nonrobust                                         \n",
      "========================================================================================\n",
      "                           coef    std err          t      P>|t|      [95.0% Conf. Int.]\n",
      "----------------------------------------------------------------------------------------\n",
      "Intercept                7.6154      0.404     18.871      0.000         6.824     8.407\n",
      "C(TeacherRank)[T.2]     -0.2154      0.533     -0.404      0.686        -1.260     0.830\n",
      "C(TeacherRank)[T.7]     -0.2768      0.430     -0.643      0.520        -1.121     0.568\n",
      "C(TeacherRank)[T.8]     -0.1320      0.422     -0.312      0.755        -0.961     0.697\n",
      "C(TeacherRank)[T.9]      0.1036      0.420      0.246      0.805        -0.721     0.928\n",
      "C(TeacherRank)[T.10]     0.0343      0.422      0.081      0.935        -0.794     0.863\n",
      "C(TeacherRank)[T.11]     0.2013      0.420      0.479      0.632        -0.623     1.025\n",
      "C(TeacherRank)[T.15]     0.3846      0.444      0.865      0.387        -0.487     1.256\n",
      "==============================================================================\n",
      "Omnibus:                      240.753   Durbin-Watson:                   1.879\n",
      "Prob(Omnibus):                  0.000   Jarque-Bera (JB):              369.405\n",
      "Skew:                          -1.089   Prob(JB):                     6.09e-81\n",
      "Kurtosis:                       4.016   Cond. No.                         23.8\n",
      "==============================================================================\n",
      "\n",
      "Warnings:\n",
      "[1] Standard Errors assume that the covariance matrix of the errors is correctly specified.\n",
      "СТАТИСТИЧЕСКИ ЗНАЧИМЫХ РАЗЛИЧИЙ ПО ANOVA НЕ ВЫЯВЛЕНО\n"
     ]
    },
    {
     "name": "stderr",
     "output_type": "stream",
     "text": [
      "/Users/anastasiapanfilova/anaconda/lib/python3.4/site-packages/ipykernel/__main__.py:46: SettingWithCopyWarning: \n",
      "A value is trying to be set on a copy of a slice from a DataFrame.\n",
      "Try using .loc[row_indexer,col_indexer] = value instead\n",
      "\n",
      "See the caveats in the documentation: http://pandas.pydata.org/pandas-docs/stable/indexing.html#indexing-view-versus-copy\n"
     ]
    }
   ],
   "source": [
    "go_classes(data, \"TeacherRank\", \"ScoreObyazLIT\", 0, 3000, 0,1)"
   ]
  },
  {
   "cell_type": "code",
   "execution_count": null,
   "metadata": {
    "collapsed": true
   },
   "outputs": [],
   "source": []
  }
 ],
 "metadata": {
  "kernelspec": {
   "display_name": "Python 3",
   "language": "python",
   "name": "python3"
  },
  "language_info": {
   "codemirror_mode": {
    "name": "ipython",
    "version": 3
   },
   "file_extension": ".py",
   "mimetype": "text/x-python",
   "name": "python",
   "nbconvert_exporter": "python",
   "pygments_lexer": "ipython3",
   "version": "3.4.3"
  }
 },
 "nbformat": 4,
 "nbformat_minor": 0
}
