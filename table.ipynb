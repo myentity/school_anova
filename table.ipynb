{
 "cells": [
  {
   "cell_type": "code",
   "execution_count": null,
   "metadata": {
    "collapsed": false
   },
   "outputs": [],
   "source": [
    "import pandas\n",
    "import numpy\n",
    "import scipy\n",
    "import statsmodels.formula.api as smf\n",
    "import statsmodels.stats.multicomp as multi"
   ]
  },
  {
   "cell_type": "code",
   "execution_count": null,
   "metadata": {
    "collapsed": true
   },
   "outputs": [],
   "source": [
    "data = pandas.read_excel('all_data_20_may.xls')"
   ]
  },
  {
   "cell_type": "markdown",
   "metadata": {},
   "source": [
    "## Описание данных"
   ]
  },
  {
   "cell_type": "code",
   "execution_count": null,
   "metadata": {
    "collapsed": false,
    "scrolled": true
   },
   "outputs": [],
   "source": [
    "data.describe()"
   ]
  },
  {
   "cell_type": "markdown",
   "metadata": {},
   "source": [
    "## Определяем типы данных"
   ]
  },
  {
   "cell_type": "code",
   "execution_count": null,
   "metadata": {
    "collapsed": false
   },
   "outputs": [],
   "source": [
    "data['ScoreObyazMA'] = pandas.to_numeric(data['ScoreObyazMA'])\n",
    "data['ScoreObyazRU'] = pandas.to_numeric(data['ScoreObyazRU'])\n",
    "data['ScoreObyazLIT'] = pandas.to_numeric(data['ScoreObyazLIT'])\n",
    "data['ClassNumber'] = pandas.to_numeric(data['ClassNumber'])\n",
    "data['SchoolTypeID'] = pandas.to_numeric(data['SchoolTypeID'])\n",
    "data['SchoolKindID'] = pandas.to_numeric(data['SchoolKindID'])\n",
    "data['TeacherAge'] = pandas.to_numeric(data['TeacherAge'])\n",
    "data['BooksMaID'] = pandas.to_numeric(data['BooksMaID'])\n",
    "data['BooksRuID'] = pandas.to_numeric(data['BooksRuID'])\n",
    "data['BooksLiID'] = pandas.to_numeric(data['BooksLiID'])\n",
    "data['LessonsMa'] = pandas.to_numeric(data['LessonsMa'])\n",
    "data['LessonsRu'] = pandas.to_numeric(data['LessonsRu'])\n",
    "data['LessonsLi'] = pandas.to_numeric(data['LessonsLi'])"
   ]
  },
  {
   "cell_type": "markdown",
   "metadata": {},
   "source": [
    "## Пример выделения подмассива по классу"
   ]
  },
  {
   "cell_type": "code",
   "execution_count": 291,
   "metadata": {
    "collapsed": false
   },
   "outputs": [],
   "source": [
    "filter_class = pandas.DataFrame(data[(data['ClassNumber'] == 3) & (data['ScoreObyazMA'] == data['ScoreObyazMA'])],columns=['BooksMaID','ScoreObyazMA'])"
   ]
  },
  {
   "cell_type": "markdown",
   "metadata": {},
   "source": [
    "## Смотрим распределение полученных оценок (min, max) и делим выборку на заданное количество частей"
   ]
  },
  {
   "cell_type": "code",
   "execution_count": 292,
   "metadata": {
    "collapsed": false
   },
   "outputs": [
    {
     "name": "stdout",
     "output_type": "stream",
     "text": [
      "count    19466.000000\n",
      "mean        11.459776\n",
      "std          2.639316\n",
      "min          0.000000\n",
      "25%         10.000000\n",
      "50%         12.000000\n",
      "75%         13.000000\n",
      "max         15.000000\n",
      "Name: ScoreObyazMA, dtype: float64\n",
      "min  0.0\n",
      "max  15.0\n",
      "divider  7.5\n"
     ]
    }
   ],
   "source": [
    "describe = filter_class['ScoreObyazMA'].describe()\n",
    "print(describe)\n",
    "#max\n",
    "print(\"min \", describe['min'])\n",
    "#min\n",
    "print(\"max \", describe['max'])\n",
    "divider = round((describe['max'] - describe['min'])/2, 1)\n",
    "print(\"divider \", divider)"
   ]
  },
  {
   "cell_type": "markdown",
   "metadata": {},
   "source": [
    "## Формируем массив, разделяющий выборку на заданное количество равных интервалов"
   ]
  },
  {
   "cell_type": "code",
   "execution_count": 293,
   "metadata": {
    "collapsed": false
   },
   "outputs": [
    {
     "name": "stdout",
     "output_type": "stream",
     "text": [
      "BooksMaID\n",
      "2       65\n",
      "3       99\n",
      "4      873\n",
      "5      696\n",
      "6     1794\n",
      "7       87\n",
      "8     1542\n",
      "9     1652\n",
      "10    6733\n",
      "11    4337\n",
      "12    1162\n",
      "13     360\n",
      "14      66\n",
      "dtype: int64\n",
      "таблица сопряженности\n",
      "             0      1  sum_rec\n",
      "2.0          1     64       65\n",
      "3.0          3     96       99\n",
      "4.0         38    835      873\n",
      "5.0         41    655      696\n",
      "6.0        136   1658     1794\n",
      "7.0         14     73       87\n",
      "8.0        117   1425     1542\n",
      "9.0        183   1469     1652\n",
      "10.0       745   5988     6733\n",
      "11.0       218   4119     4337\n",
      "12.0        55   1107     1162\n",
      "13.0        25    335      360\n",
      "14.0         4     62       66\n",
      "sum_rows  1580  17886    19466\n"
     ]
    }
   ],
   "source": [
    "k = 2\n",
    "#общее количество записей по каждой книге\n",
    "all_groups = filter_class.groupby('BooksMaID').size()\n",
    "print(all_groups)\n",
    "# ключи книг\n",
    "#numpy.array(all_groups.index)\n",
    "# в dataframe по строкам обозначим учебники, а по столбцам интервалы\n",
    "df2 = pandas.DataFrame(columns=range(k), index=numpy.array(all_groups.index))\n",
    "interval = range(k)\n",
    "#print(df2)\n",
    "#идем по учебникам\n",
    "for i, row in df2.iterrows():\n",
    "    first_divider,  second_divider = describe['min'], describe['min'] + divider\n",
    "    #идем по интервалам\n",
    "    for t in interval:\n",
    "        if t == interval[len(interval)-1]:\n",
    "            second_divider +=1\n",
    "        #фильтруем оценки, которые укладываются в интервал\n",
    "        count = filter_class[(filter_class['BooksMaID'] == i) & (filter_class['ScoreObyazMA'] >= first_divider) & (filter_class['ScoreObyazMA'] < second_divider)]\n",
    "        df2.set_value(i, t, len(count['BooksMaID']))\n",
    "        first_divider,  second_divider = first_divider + divider, second_divider + divider\n",
    "print(\"таблица сопряженности\")\n",
    "df2['sum_rec'] = all_groups\n",
    "df2.loc['sum_rows'] = 0\n",
    "list1 = [df2[i].sum() for i in interval]\n",
    "for i in interval:\n",
    "    df2.set_value('sum_rows', i, list1[i])\n",
    "df2.set_value('sum_rows', 'sum_rec', df2['sum_rec'].sum())\n",
    "print(df2)"
   ]
  },
  {
   "cell_type": "markdown",
   "metadata": {},
   "source": [
    "## Вычисляем прогнозируемые значения"
   ]
  },
  {
   "cell_type": "code",
   "execution_count": 294,
   "metadata": {
    "collapsed": false
   },
   "outputs": [
    {
     "name": "stdout",
     "output_type": "stream",
     "text": [
      "209.397103948 3.72869291968e-38\n"
     ]
    },
    {
     "name": "stderr",
     "output_type": "stream",
     "text": [
      "/Users/anastasiapanfilova/anaconda/lib/python3.4/site-packages/ipykernel/__main__.py:5: FutureWarning: scalar indexers for index type Index should be integers and not floating point\n"
     ]
    }
   ],
   "source": [
    "df3 = pandas.DataFrame(columns=range(k), index=numpy.array(all_groups.index))\n",
    "summary = []\n",
    "for i, row in df2.iterrows():\n",
    "    for k in interval:\n",
    "        df3.set_value(i, k, df2[k][i]**2/(df2[k]['sum_rows']*row['sum_rec']))\n",
    "    summary.append(df3.ix[i].sum())\n",
    "df3['sum_rec'] = summary\n",
    "df3.loc['sum_rows'] = 0\n",
    "list1 = [df3[i].sum() for i in interval]\n",
    "for i in interval:\n",
    "    df3.set_value('sum_rows', i, list1[i])\n",
    "df3.set_value('sum_rows', 'sum_rec', df3['sum_rec'].sum())\n",
    "#статистика хи квадрат\n",
    "xi2 = (df3['sum_rec']['sum_rows']-1)*df2['sum_rec']['sum_rows']\n",
    "#число степеней свободы\n",
    "df = (len(interval)-1)*((len(df3.index)-1)-1)\n",
    "#p-значение\n",
    "p_val = scipy.stats.chisqprob(xi2, df)\n",
    "print(xi2,p_val)"
   ]
  },
  {
   "cell_type": "markdown",
   "metadata": {},
   "source": [
    "### Функция "
   ]
  },
  {
   "cell_type": "code",
   "execution_count": 309,
   "metadata": {
    "collapsed": true
   },
   "outputs": [],
   "source": [
    "def filter_data(data, id_book_cell_name, id_score_cell_name, class_num, k):\n",
    "    print(\"Ведем разбор для класса \",class_num)\n",
    "    #выделяем подмассив с текущим классом\n",
    "    filter_class = pandas.DataFrame(data[(data['ClassNumber'] == class_num) & (data[id_score_cell_name] == data[id_score_cell_name])],columns=[id_book_cell_name,id_score_cell_name])\n",
    "    describe = filter_class[id_score_cell_name].describe()\n",
    "    print(describe)\n",
    "    #max\n",
    "    print(\"min \", describe['min'])\n",
    "    #min\n",
    "    print(\"max \", describe['max'])\n",
    "    divider = round((describe['max'] - describe['min'])/2, 1)\n",
    "    print(\"divider \", divider)\n",
    "    #общее количество записей по каждой книге\n",
    "    all_groups = filter_class.groupby(id_book_cell_name).size()\n",
    "    print(all_groups)\n",
    "    # ключи книг\n",
    "    #numpy.array(all_groups.index)\n",
    "    # в dataframe по строкам обозначим учебники, а по столбцам интервалы\n",
    "    df2 = pandas.DataFrame(columns=range(k), index=numpy.array(all_groups.index))\n",
    "    interval = range(k)\n",
    "    #print(df2)\n",
    "    #идем по учебникам\n",
    "    for i, row in df2.iterrows():\n",
    "        first_divider,  second_divider = describe['min'], describe['min'] + divider\n",
    "        #идем по интервалам\n",
    "        for t in interval:\n",
    "            if t == interval[len(interval)-1]:\n",
    "                second_divider +=1\n",
    "            #фильтруем оценки, которые укладываются в интервал\n",
    "            count = filter_class[(filter_class[id_book_cell_name] == i) & (filter_class[id_score_cell_name] >= first_divider) & (filter_class[id_score_cell_name] < second_divider)]\n",
    "            df2.set_value(i, t, len(count[id_book_cell_name]))\n",
    "            #print(first_divider, second_divider)\n",
    "            first_divider,  second_divider = first_divider + divider, second_divider + divider\n",
    "    print(\"таблица сопряженности\")\n",
    "    df2['sum_rec'] = all_groups\n",
    "    df2.loc['sum_rows'] = 0\n",
    "    list1 = [df2[i].sum() for i in interval]\n",
    "    for i in interval:\n",
    "        df2.set_value('sum_rows', i, list1[i])\n",
    "    df2.set_value('sum_rows', 'sum_rec', df2['sum_rec'].sum())\n",
    "    #print(df2)\n",
    "    return df2"
   ]
  },
  {
   "cell_type": "code",
   "execution_count": 310,
   "metadata": {
    "collapsed": true
   },
   "outputs": [],
   "source": [
    "def crosstabs(data, id_book_cell_name, id_score_cell_name, class_num, count_interval):\n",
    "    df2 = filter_data(data, id_book_cell_name, id_score_cell_name, class_num, count_interval)\n",
    "    print(df2)\n",
    "    filter_class = pandas.DataFrame(data[(data['ClassNumber'] == class_num) & (data[id_score_cell_name] == data[id_score_cell_name])],columns=[id_book_cell_name,id_score_cell_name])\n",
    "    #общее количество записей по каждой книге\n",
    "    all_groups = filter_class.groupby(id_book_cell_name).size()\n",
    "    interval = range(count_interval)\n",
    "    df3 = pandas.DataFrame(columns=range(count_interval), index=numpy.array(all_groups.index))\n",
    "    summary = []\n",
    "    #вычисляем прогнозируемые значения по формуле n**2ij /(ni*n*j) \n",
    "    for i, row in df2.iterrows():\n",
    "        for k in interval:\n",
    "            df3.set_value(i, k, df2[k][i]**2/(df2[k]['sum_rows']*row['sum_rec']))\n",
    "        summary.append(df3.ix[i].sum())\n",
    "    df3['sum_rec'] = summary\n",
    "    df3.loc['sum_rows'] = 0\n",
    "    list1 = [df3[i].sum() for i in interval]\n",
    "    for i in interval:\n",
    "        df3.set_value('sum_rows', i, list1[i])\n",
    "    df3.set_value('sum_rows', 'sum_rec', df3['sum_rec'].sum())\n",
    "    print(df3)\n",
    "    #статистика хи квадрат\n",
    "    xi2 = (df3['sum_rec']['sum_rows']-1)*df2['sum_rec']['sum_rows']\n",
    "    #число степеней свободы\n",
    "    df = (len(interval)-1)*((len(df3.index)-1)-1)\n",
    "    #p-значение\n",
    "    p_val = scipy.stats.chisqprob(xi2, df)\n",
    "    print(\"stat \",xi2, \"chisqprob \", p_val)"
   ]
  },
  {
   "cell_type": "code",
   "execution_count": 320,
   "metadata": {
    "collapsed": false
   },
   "outputs": [
    {
     "name": "stdout",
     "output_type": "stream",
     "text": [
      "Ведем разбор для класса  1\n",
      "count    19760.000000\n",
      "mean         8.715992\n",
      "std          1.434328\n",
      "min          0.000000\n",
      "25%          8.000000\n",
      "50%          9.000000\n",
      "75%         10.000000\n",
      "max         10.000000\n",
      "Name: ScoreObyazMA, dtype: float64\n",
      "min  0.0\n",
      "max  10.0\n",
      "divider  5.0\n",
      "BooksMaID\n",
      "1       29\n",
      "3      128\n",
      "4      712\n",
      "5      734\n",
      "6     2211\n",
      "7       27\n",
      "8      985\n",
      "9     2023\n",
      "10    7008\n",
      "11    3848\n",
      "12     894\n",
      "13     243\n",
      "14     671\n",
      "dtype: int64\n",
      "таблица сопряженности\n",
      "            0      1  sum_rec\n",
      "1.0         1     28       29\n",
      "3.0         0    128      128\n",
      "4.0        11    701      712\n",
      "5.0         7    727      734\n",
      "6.0        39   2172     2211\n",
      "7.0         0     27       27\n",
      "8.0        14    971      985\n",
      "9.0        35   1988     2023\n",
      "10.0      141   6867     7008\n",
      "11.0       30   3818     3848\n",
      "12.0       19    875      894\n",
      "13.0        4    239      243\n",
      "14.0        9    662      671\n",
      "sum_rows  310  19203    19513\n",
      "                    0           1   sum_rec\n",
      "1.0       0.000111235  0.00140783  0.001519\n",
      "3.0                 0  0.00666563  0.006666\n",
      "4.0       0.000548206   0.0359407  0.036489\n",
      "5.0       0.000215347   0.0374976  0.037713\n",
      "6.0        0.00221911    0.111112  0.113331\n",
      "7.0                 0  0.00140603  0.001406\n",
      "8.0       0.000641886   0.0498463  0.050488\n",
      "9.0        0.00195334    0.101734  0.103688\n",
      "10.0       0.00915129    0.350406  0.359557\n",
      "11.0      0.000754477    0.197273  0.198028\n",
      "12.0       0.00130259   0.0445974  0.045900\n",
      "13.0      0.000212399   0.0122411  0.012453\n",
      "14.0      0.000389404   0.0340114  0.034401\n",
      "sum_rows    0.0174993    0.984139  1.001638\n",
      "stat  31.9715613223 chisqprob  0.00139783613334\n"
     ]
    },
    {
     "name": "stderr",
     "output_type": "stream",
     "text": [
      "/Users/anastasiapanfilova/anaconda/lib/python3.4/site-packages/ipykernel/__main__.py:13: FutureWarning: scalar indexers for index type Index should be integers and not floating point\n"
     ]
    }
   ],
   "source": [
    "crosstabs(data, \"BooksMaID\", \"ScoreObyazMA\", 1, 2)"
   ]
  },
  {
   "cell_type": "code",
   "execution_count": 316,
   "metadata": {
    "collapsed": false
   },
   "outputs": [
    {
     "name": "stdout",
     "output_type": "stream",
     "text": [
      "Ведем разбор для класса  1\n",
      "count    19606.000000\n",
      "mean        11.000255\n",
      "std          3.320160\n",
      "min          0.000000\n",
      "25%          9.000000\n",
      "50%         11.000000\n",
      "75%         14.000000\n",
      "max         16.000000\n",
      "Name: ScoreObyazRU, dtype: float64\n",
      "min  0.0\n",
      "max  16.0\n",
      "divider  8.0\n",
      "BooksRuID\n",
      "1     1186\n",
      "2     2788\n",
      "3       55\n",
      "5     2502\n",
      "6     1686\n",
      "8      143\n",
      "9       53\n",
      "10    1216\n",
      "11    6583\n",
      "12     199\n",
      "13    2207\n",
      "14     369\n",
      "16     378\n",
      "dtype: int64\n",
      "таблица сопряженности\n",
      "             0      1  sum_rec\n",
      "1.0        165   1021     1186\n",
      "2.0        413   2375     2788\n",
      "3.0         10     45       55\n",
      "5.0        426   2076     2502\n",
      "6.0        220   1466     1686\n",
      "8.0         24    119      143\n",
      "9.0          1     52       53\n",
      "10.0       160   1056     1216\n",
      "11.0      1056   5527     6583\n",
      "12.0        18    181      199\n",
      "13.0       349   1858     2207\n",
      "14.0        43    326      369\n",
      "16.0       103    275      378\n",
      "sum_rows  2988  16377    19365\n",
      "                    0           1   sum_rec\n",
      "1.0         0.0076825   0.0536701  0.061353\n",
      "2.0         0.0204751    0.123538  0.144013\n",
      "3.0       0.000608495  0.00224816  0.002857\n",
      "5.0         0.0242746     0.10518  0.129455\n",
      "6.0        0.00960743   0.0778352  0.087443\n",
      "8.0        0.00134805  0.00604677  0.007395\n",
      "9.0       6.31457e-06  0.00311528  0.003122\n",
      "10.0       0.00704573   0.0559964  0.063042\n",
      "11.0        0.0566922    0.283348  0.340041\n",
      "12.0      0.000544893   0.0100524  0.010597\n",
      "13.0          0.01847   0.0955113  0.113981\n",
      "14.0       0.00167699   0.0175863  0.019263\n",
      "16.0       0.00939295   0.0122163  0.021609\n",
      "sum_rows     0.157825    0.846344  1.004170\n",
      "stat  80.7457542653 chisqprob  2.97398057267e-12\n"
     ]
    },
    {
     "name": "stderr",
     "output_type": "stream",
     "text": [
      "/Users/anastasiapanfilova/anaconda/lib/python3.4/site-packages/ipykernel/__main__.py:13: FutureWarning: scalar indexers for index type Index should be integers and not floating point\n"
     ]
    }
   ],
   "source": [
    "crosstabs(data, \"BooksRuID\", \"ScoreObyazRU\", 1, 2)"
   ]
  },
  {
   "cell_type": "code",
   "execution_count": 319,
   "metadata": {
    "collapsed": false
   },
   "outputs": [
    {
     "name": "stdout",
     "output_type": "stream",
     "text": [
      "Ведем разбор для класса  3\n",
      "count    19466.000000\n",
      "mean        11.459776\n",
      "std          2.639316\n",
      "min          0.000000\n",
      "25%         10.000000\n",
      "50%         12.000000\n",
      "75%         13.000000\n",
      "max         15.000000\n",
      "Name: ScoreObyazMA, dtype: float64\n",
      "min  0.0\n",
      "max  15.0\n",
      "divider  7.5\n",
      "TeacherRank\n",
      "Вторая категория                     2187\n",
      "Высшая категория                     9958\n",
      "Первая категория                     5695\n",
      "Соответствие занимаемой должности    1626\n",
      "dtype: int64\n",
      "таблица сопряженности\n",
      "                                      0      1  sum_rec\n",
      "Вторая категория                    240   1947     2187\n",
      "Высшая категория                    673   9285     9958\n",
      "Первая категория                    508   5187     5695\n",
      "Соответствие занимаемой должности   159   1467     1626\n",
      "sum_rows                           1580  17886    19466\n",
      "                                            0          1   sum_rec\n",
      "Вторая категория                    0.0166693  0.0969103  0.113580\n",
      "Высшая категория                    0.0287873   0.484037  0.512824\n",
      "Первая категория                    0.0286798   0.264135  0.292815\n",
      "Соответствие занимаемой должности  0.00984049  0.0739991  0.083840\n",
      "sum_rows                            0.0839769   0.919081  1.003058\n",
      "stat  59.5256780997 chisqprob  7.42293818291e-13\n"
     ]
    }
   ],
   "source": [
    "crosstabs(data, \"TeacherRank\", \"ScoreObyazMA\", 3, 2) "
   ]
  },
  {
   "cell_type": "code",
   "execution_count": null,
   "metadata": {
    "collapsed": true
   },
   "outputs": [],
   "source": []
  }
 ],
 "metadata": {
  "kernelspec": {
   "display_name": "Python 3",
   "language": "python",
   "name": "python3"
  },
  "language_info": {
   "codemirror_mode": {
    "name": "ipython",
    "version": 3
   },
   "file_extension": ".py",
   "mimetype": "text/x-python",
   "name": "python",
   "nbconvert_exporter": "python",
   "pygments_lexer": "ipython3",
   "version": "3.4.3"
  }
 },
 "nbformat": 4,
 "nbformat_minor": 0
}
